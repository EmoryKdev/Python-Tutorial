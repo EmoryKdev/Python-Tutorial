{
 "cells": [
  {
   "cell_type": "markdown",
   "metadata": {},
   "source": [
    "## Ch 3 : Working with Files"
   ]
  },
  {
   "cell_type": "code",
   "execution_count": 1,
   "metadata": {
    "collapsed": true
   },
   "outputs": [],
   "source": [
    "import os"
   ]
  },
  {
   "cell_type": "code",
   "execution_count": 2,
   "metadata": {
    "collapsed": true
   },
   "outputs": [],
   "source": [
    "# get file info\n",
    "filename = \"test.txt\" # your file name\n",
    "filepath = \"/Users/jayeolchun/Documents/Programming/Emory-K-Dev/Python-Tutorial\" # where you want to save your file"
   ]
  },
  {
   "cell_type": "code",
   "execution_count": 3,
   "metadata": {
    "collapsed": false
   },
   "outputs": [
    {
     "name": "stdout",
     "output_type": "stream",
     "text": [
      "/Users/jayeolchun/Documents/Programming/Emory-K-Dev/Python-Tutorial/test.txt\n"
     ]
    }
   ],
   "source": [
    "file = os.path.join(filepath, filename)\n",
    "print(file)"
   ]
  },
  {
   "cell_type": "markdown",
   "metadata": {},
   "source": [
    "There are two ways to [open](https://docs.python.org/3/library/functions.html#open) a file(stream):\n",
    "* directly open a file and manually close\n",
    "* with block\n",
    "\n",
    "Make sure to read the open page, paying attention to what each 'mode character' means..."
   ]
  },
  {
   "cell_type": "code",
   "execution_count": 4,
   "metadata": {
    "collapsed": false
   },
   "outputs": [],
   "source": [
    "f = open(file, 'w') # our mode is 'w' \n",
    "# do something..\n",
    "# running this block will create a text file on yoru computer!!\n",
    "f.close()"
   ]
  },
  {
   "cell_type": "code",
   "execution_count": 5,
   "metadata": {
    "collapsed": false
   },
   "outputs": [],
   "source": [
    "# above is exactly the same as:\n",
    "with open(file, 'w') as f:\n",
    "    # do something..\n",
    "    pass"
   ]
  },
  {
   "cell_type": "markdown",
   "metadata": {},
   "source": [
    "No need to close a file stream in the second case!"
   ]
  },
  {
   "cell_type": "code",
   "execution_count": 6,
   "metadata": {
    "collapsed": false
   },
   "outputs": [
    {
     "name": "stdout",
     "output_type": "stream",
     "text": [
      " Atlanta is the capital of and the most populous city in the U.S. state of Georgia, with an estimated 2015 population of 463,878. Atlanta is the cultural and economic center of the Atlanta metropolitan area, home to 5,710,795 people and the ninth largest metropolitan area in the United States. \n"
     ]
    }
   ],
   "source": [
    "# let's write some sentences to our file.\n",
    "sent = \" Atlanta is the capital of and the most populous city in the U.S. state of Georgia, with an estimated 2015 population of 463,878. Atlanta is the cultural and economic center of the Atlanta metropolitan area, home to 5,710,795 people and the ninth largest metropolitan area in the United States. \"\n",
    "print(sent)"
   ]
  },
  {
   "cell_type": "code",
   "execution_count": 7,
   "metadata": {
    "collapsed": true
   },
   "outputs": [],
   "source": [
    "with open(file, 'w') as f:\n",
    "    f.write(sent)"
   ]
  },
  {
   "cell_type": "code",
   "execution_count": 8,
   "metadata": {
    "collapsed": true
   },
   "outputs": [],
   "source": [
    "# now open the file and take a look at what's inside!"
   ]
  },
  {
   "cell_type": "markdown",
   "metadata": {},
   "source": [
    "Now, we will open a file, edit it and rewrite the content"
   ]
  },
  {
   "cell_type": "code",
   "execution_count": 9,
   "metadata": {
    "collapsed": true
   },
   "outputs": [],
   "source": [
    "with open(file,'r') as f:\n",
    "    lines = f.readlines()"
   ]
  },
  {
   "cell_type": "code",
   "execution_count": 10,
   "metadata": {
    "collapsed": false
   },
   "outputs": [
    {
     "name": "stdout",
     "output_type": "stream",
     "text": [
      "[' Atlanta is the capital of and the most populous city in the U.S. state of Georgia, with an estimated 2015 population of 463,878. Atlanta is the cultural and economic center of the Atlanta metropolitan area, home to 5,710,795 people and the ninth largest metropolitan area in the United States. ']\n"
     ]
    }
   ],
   "source": [
    "print(lines)"
   ]
  },
  {
   "cell_type": "code",
   "execution_count": 11,
   "metadata": {
    "collapsed": false
   },
   "outputs": [
    {
     "name": "stdout",
     "output_type": "stream",
     "text": [
      "Atlanta is the capital of and the most populous city in the U.S. state of Georgia, with an estimated 2015 population of 463,878. Atlanta is the cultural and economic center of the Atlanta metropolitan area, home to 5,710,795 people and the ninth largest metropolitan area in the United States.\n",
      "\n",
      "atlanta is the capital of and the most populous city in the u.s. state of georgia, with an estimated 2015 population of 463,878. atlanta is the cultural and economic center of the atlanta metropolitan area, home to 5,710,795 people and the ninth largest metropolitan area in the united states.\n",
      "\n",
      "Atlanta is the capital of and the most populous city in the u.s. state of georgia, with an estimated 2015 population of 463,878. atlanta is the cultural and economic center of the atlanta metropolitan area, home to 5,710,795 people and the ninth largest metropolitan area in the united states.\n",
      "\n",
      "ATLANTA IS THE CAPITAL OF AND THE MOST POPULOUS CITY IN THE U.S. STATE OF GEORGIA, WITH AN ESTIMATED 2015 POPULATION OF 463,878. ATLANTA IS THE CULTURAL AND ECONOMIC CENTER OF THE ATLANTA METROPOLITAN AREA, HOME TO 5,710,795 PEOPLE AND THE NINTH LARGEST METROPOLITAN AREA IN THE UNITED STATES.\n",
      "\n",
      "['atlanta', 'is', 'the', 'capital', 'of', 'and', 'the', 'most', 'populous', 'city', 'in', 'the', 'u.s.', 'state', 'of', 'georgia,', 'with', 'an', 'estimated', '2015', 'population', 'of', '463,878.', 'atlanta', 'is', 'the', 'cultural', 'and', 'economic', 'center', 'of', 'the', 'atlanta', 'metropolitan', 'area,', 'home', 'to', '5,710,795', 'people', 'and', 'the', 'ninth', 'largest', 'metropolitan', 'area', 'in', 'the', 'united', 'states.']\n",
      "\n"
     ]
    }
   ],
   "source": [
    "for line in lines:\n",
    "    line = line.strip() # remove new lines / empty space from beginnign and end of sentence\n",
    "    print(line)\n",
    "    print()\n",
    "    line = line.lower()# lower character\n",
    "    print(line)\n",
    "    print()\n",
    "    line = line.capitalize() # Only first \"a\" in atlanta capitalized\n",
    "    print(line)\n",
    "    print()\n",
    "    line = line.upper() # All capitalized\n",
    "    print(line)\n",
    "    print()\n",
    "    line = line.lower().split() # split by whitespace and gives us a list\n",
    "    print(line)\n",
    "    print()\n",
    "    # do somethig more.."
   ]
  },
  {
   "cell_type": "code",
   "execution_count": 12,
   "metadata": {
    "collapsed": false
   },
   "outputs": [
    {
     "name": "stdout",
     "output_type": "stream",
     "text": [
      "atlanta\n",
      "atl, ga\n",
      "\n"
     ]
    }
   ],
   "source": [
    "# by now, line contains tokens of the sentence\n",
    "for tok in line:\n",
    "    print(tok)\n",
    "    new_tok = tok.replace(\"anta\", \", ga\")\n",
    "    print(new_tok)\n",
    "    print()\n",
    "    break\n",
    "    # do something..."
   ]
  },
  {
   "cell_type": "code",
   "execution_count": 13,
   "metadata": {
    "collapsed": true
   },
   "outputs": [],
   "source": [
    "# Now, let's actually do somehing and save our new output to a different file\n",
    "new_file = \"test.tok\" # note the change in extension. Extension doesn't matter too much if you are using python to consume them\n",
    "new_file = os.path.join(filepath, new_file)"
   ]
  },
  {
   "cell_type": "code",
   "execution_count": 14,
   "metadata": {
    "collapsed": true
   },
   "outputs": [],
   "source": [
    "# I will open the first file for reading, and the new file for writing.\n",
    "with open(file, 'r') as f1, open(new_file, 'w') as f2:\n",
    "    line = f1.readline() # readline vs readlines ? for us no difference, we only have one line..\n",
    "    line = line.strip().lower().split()\n",
    "    f2.write('\\n'.join(line)) # write each element in line, seperated by \\n or newline"
   ]
  }
 ],
 "metadata": {
  "kernelspec": {
   "display_name": "Python 3",
   "language": "python",
   "name": "python3"
  },
  "language_info": {
   "codemirror_mode": {
    "name": "ipython",
    "version": 3
   },
   "file_extension": ".py",
   "mimetype": "text/x-python",
   "name": "python",
   "nbconvert_exporter": "python",
   "pygments_lexer": "ipython3",
   "version": "3.6.0"
  }
 },
 "nbformat": 4,
 "nbformat_minor": 2
}
