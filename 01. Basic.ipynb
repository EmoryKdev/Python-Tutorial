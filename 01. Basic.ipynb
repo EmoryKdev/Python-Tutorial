{
 "cells": [
  {
   "cell_type": "markdown",
   "metadata": {},
   "source": [
    "# Emory K. Dev Python Tutorial"
   ]
  },
  {
   "cell_type": "markdown",
   "metadata": {},
   "source": [
    "## Set-Up\n",
    "* [Anaconda](https://www.continuum.io/downloads) (Python 3.6.0)\n",
    "* [Git](https://git-scm.com/downloads)\n",
    "* [PyCharm](https://www.jetbrains.com/pycharm/) (Preferred Python IDE) ::: consider Spyder (part of Anaconda) for scientific computing"
   ]
  },
  {
   "cell_type": "markdown",
   "metadata": {},
   "source": [
    "## Ch 1 : Hello World"
   ]
  },
  {
   "cell_type": "code",
   "execution_count": 4,
   "metadata": {
    "collapsed": false
   },
   "outputs": [
    {
     "name": "stdout",
     "output_type": "stream",
     "text": [
      "Hello World!\n"
     ]
    }
   ],
   "source": [
    "# Compare this to Java Hello World\n",
    "print(\"Hello World!\")"
   ]
  },
  {
   "cell_type": "code",
   "execution_count": 6,
   "metadata": {
    "collapsed": true
   },
   "outputs": [],
   "source": [
    "# Single-line Comment\n",
    "# Fundamentally, python is a scripting language suited for high-level programming with remarkable clarity and simplicity.\n",
    "\n",
    "'''\n",
    "Block Comment : This is another way to comment out multiple of lines!\n",
    "Seems like the convention is to use this to provide descriptions for methods.\n",
    "I will explain this a bit later, but for now just be aware of the shortcut:\n",
    "(Windows) C + /\n",
    "(Mac) cmd + / \n",
    "-> Write a couple of random lines below this block comment, grab them and try the shortcut!\n",
    "'''\n",
    "\n",
    "# this is an example!\n",
    "# I am writing random stuff here,\n",
    "# and ther... and now\n",
    "# I click cmd + / !!!"
   ]
  },
  {
   "cell_type": "markdown",
   "metadata": {},
   "source": [
    "## Ch 2 : Data Types"
   ]
  },
  {
   "cell_type": "markdown",
   "metadata": {},
   "source": [
    "Look [here](https://en.wikibooks.org/wiki/Python_Programming/Data_Types) for details. I will not explain every one of these.\n",
    "\n",
    "Pay particular attention to [list](https://docs.python.org/3/tutorial/datastructures.html#more-on-lists), [tuple](https://docs.python.org/3/tutorial/datastructures.html#tuples-and-sequences) and [dict](https://docs.python.org/3/tutorial/datastructures.html#dictionaries). These will come in handy as you go forward.\n",
    "\n",
    "But, if I were to make a comparison with Java data types...\n",
    "* list : array / stack / queue / arraylist....\n",
    "* tuple : technically, does not exist in Java\n",
    "* dict : Hashmap\n",
    "\n",
    "Don't worry if you don't know what the Hashmap and queues and such are. Its behavior / format should be clear soon."
   ]
  },
  {
   "cell_type": "markdown",
   "metadata": {},
   "source": [
    "### A. List + Loop\n",
    "Recall that, up to CS170 and even CS171, you've learned For-Loop and While-Loop and specifically used it to look at elements within an array. Exactly the same here. How you iterate through the list, however, is slightly different. And if you've picked up [For-Each Loop](http://stackoverflow.com/questions/85190/how-does-the-java-for-each-loop-work), you are in good shape."
   ]
  },
  {
   "cell_type": "markdown",
   "metadata": {},
   "source": [
    "### (1) While Loop"
   ]
  },
  {
   "cell_type": "code",
   "execution_count": 10,
   "metadata": {
    "collapsed": true
   },
   "outputs": [],
   "source": [
    "# While Loop example:\n",
    "i = a = 0      # i = 0, a = 0\n",
    "while i < 5:\n",
    "    a += i**2  # i ** 2 == i ^2\n",
    "    i += 1     # i +=1 : i = i + 1\n",
    "    \n",
    "# What is value in a now?"
   ]
  },
  {
   "cell_type": "code",
   "execution_count": 14,
   "metadata": {
    "collapsed": false
   },
   "outputs": [
    {
     "data": {
      "text/plain": [
       "30"
      ]
     },
     "execution_count": 14,
     "metadata": {},
     "output_type": "execute_result"
    }
   ],
   "source": [
    "a"
   ]
  },
  {
   "cell_type": "markdown",
   "metadata": {},
   "source": [
    "Essentially, the while loop doesn't differ too much.\n",
    "Just note the lack of parenthesis around the loop condition, as it is considered redundant.\n",
    "However, this for loop is quite interesting so let's take a look."
   ]
  },
  {
   "cell_type": "markdown",
   "metadata": {},
   "source": [
    "### (2) For Loop"
   ]
  },
  {
   "cell_type": "code",
   "execution_count": 11,
   "metadata": {
    "collapsed": true
   },
   "outputs": [],
   "source": [
    "# For Loop example:\n",
    "b = 0\n",
    "for i in range(5):\n",
    "    b += i**2\n",
    "    \n",
    "# What is value in a now?"
   ]
  },
  {
   "cell_type": "code",
   "execution_count": 15,
   "metadata": {
    "collapsed": false,
    "scrolled": true
   },
   "outputs": [
    {
     "data": {
      "text/plain": [
       "30"
      ]
     },
     "execution_count": 15,
     "metadata": {},
     "output_type": "execute_result"
    }
   ],
   "source": [
    "b"
   ]
  },
  {
   "cell_type": "markdown",
   "metadata": {},
   "source": [
    "Essentially, a for loop in python is equivalent to a For-Each Loop in Java. What is For-Each Loop, you ask?\n",
    "\n",
    "In java, you learned in the very beginning that, in order to iterate an array of length 5:\n",
    "\n",
    "```java\n",
    "int[] a = {1, 2, 3, 4, 5},\n",
    "for(int i = 0; i < a.length; i++){\n",
    "    System.out.println(a[i]);\n",
    "}\n",
    "```\n",
    "\n",
    "But, this accomplishes exactly the same task:\n",
    "\n",
    "```java\n",
    "int[] b = a;\n",
    "for(int c : b){\n",
    "    System.out.println(c);\n",
    "}\n",
    "```\n",
    "\n",
    "Basically, the below version says:\n",
    "> Hey, I know that the array variable b only conatins elements of type int.\n",
    "> So, starting from index 0, just give me that element without me having to explicity specify the location of each element\n",
    "\n",
    "It is my understanding (I am too lazy to check as of this writing) whether the computation time is actually shorter for the below method, i.e. more effecient. It should be. But, nevertheless, note this fact:\n",
    "\n",
    "#### You CAN change the value of the array elements in the first method. But you CANNOT change the value of the array elements in the second method!!!!\n",
    "## -> Why??"
   ]
  },
  {
   "cell_type": "markdown",
   "metadata": {},
   "source": [
    "#### [Range](https://docs.python.org/3/library/functions.html#func-range)"
   ]
  },
  {
   "cell_type": "code",
   "execution_count": 18,
   "metadata": {
    "collapsed": false
   },
   "outputs": [
    {
     "name": "stdout",
     "output_type": "stream",
     "text": [
      "range(0, 5)\n"
     ]
    }
   ],
   "source": [
    "# Let's test this in python. First, let me show what range() function gives us.\n",
    "print(range(5))"
   ]
  },
  {
   "cell_type": "code",
   "execution_count": 19,
   "metadata": {
    "collapsed": false
   },
   "outputs": [
    {
     "name": "stdout",
     "output_type": "stream",
     "text": [
      "0\n",
      "1\n",
      "2\n",
      "3\n",
      "4\n"
     ]
    }
   ],
   "source": [
    "# That wasn't too helpful. Let me try the for-loop instead:\n",
    "for i in range(5):\n",
    "    # only argument ::: stop (excluding)\n",
    "    print (i)"
   ]
  },
  {
   "cell_type": "code",
   "execution_count": 24,
   "metadata": {
    "collapsed": false
   },
   "outputs": [
    {
     "name": "stdout",
     "output_type": "stream",
     "text": [
      "1\n",
      "2\n",
      "3\n",
      "4\n",
      "5\n"
     ]
    }
   ],
   "source": [
    "# Perhaps you can now visualize what the range(5) looks like? Let me try with a different set of arguments:\n",
    "for j in range(1, 6):\n",
    "    # first argument  ::: start (including)\n",
    "    # second argument ::: stop (excluding)\n",
    "    print(j)"
   ]
  },
  {
   "cell_type": "code",
   "execution_count": 25,
   "metadata": {
    "collapsed": false
   },
   "outputs": [
    {
     "name": "stdout",
     "output_type": "stream",
     "text": [
      "1\n",
      "4\n",
      "7\n"
     ]
    }
   ],
   "source": [
    "for abc in range(1, 10, 3):\n",
    "    # first argument  ::: start (including)\n",
    "    # second argument ::: stop (excluding)\n",
    "    # third argument  ::: step\n",
    "    print(abc)"
   ]
  },
  {
   "cell_type": "markdown",
   "metadata": {
    "collapsed": true
   },
   "source": [
    "To summmarize,\n",
    "```python\n",
    "range(5) ::: [0, 1, 2, 3, 4]\n",
    "range(1, 4) ::: [1, 2, 3]\n",
    "range(1, 10, 4) ::: [1, 5, 9]\n",
    "```\n",
    "Given this range, the for loop assigns a temporary variable that you give in the \n",
    "```python\n",
    "for my_var in range(5):\n",
    "```\n",
    "to stand for each value of the list.\n",
    "\n",
    "Oh and note that, unlike in Java, the convention for naming in python doesn't seem to be camelcase. Rather, use underscore."
   ]
  },
  {
   "cell_type": "markdown",
   "metadata": {},
   "source": [
    "### (3) List"
   ]
  },
  {
   "cell_type": "code",
   "execution_count": 39,
   "metadata": {
    "collapsed": true
   },
   "outputs": [],
   "source": [
    "# Let's work directly with custom lists.\n",
    "a_list = [1, 2, 3] # equivalent to an int array in Java\n",
    "b_list = [-5.0, \"this is a string\", 9] # ?????? doesn't care about data type of constituent elements"
   ]
  },
  {
   "cell_type": "code",
   "execution_count": 40,
   "metadata": {
    "collapsed": false
   },
   "outputs": [
    {
     "name": "stdout",
     "output_type": "stream",
     "text": [
      "3\n",
      "3\n"
     ]
    }
   ],
   "source": [
    "# how many elements?\n",
    "print( len(a_list) )\n",
    "print( len(b_list) )"
   ]
  },
  {
   "cell_type": "code",
   "execution_count": 41,
   "metadata": {
    "collapsed": false
   },
   "outputs": [
    {
     "name": "stdout",
     "output_type": "stream",
     "text": [
      "[1, 2, 3, 4]\n"
     ]
    }
   ],
   "source": [
    "# append new data\n",
    "a_list.append(4)\n",
    "print(a_list)"
   ]
  },
  {
   "cell_type": "code",
   "execution_count": 42,
   "metadata": {
    "collapsed": false
   },
   "outputs": [
    {
     "name": "stdout",
     "output_type": "stream",
     "text": [
      "[1, 3, 4]\n"
     ]
    }
   ],
   "source": [
    "# remove a second-index data\n",
    "del a_list[1]\n",
    "print(a_list)"
   ]
  },
  {
   "cell_type": "code",
   "execution_count": 43,
   "metadata": {
    "collapsed": false
   },
   "outputs": [
    {
     "name": "stdout",
     "output_type": "stream",
     "text": [
      "9 [-5.0, 'this is a string']\n"
     ]
    }
   ],
   "source": [
    "# pop randomly\n",
    "p1 = b_list.pop()\n",
    "print(p1, b_list)"
   ]
  },
  {
   "cell_type": "code",
   "execution_count": 44,
   "metadata": {
    "collapsed": false
   },
   "outputs": [
    {
     "name": "stdout",
     "output_type": "stream",
     "text": [
      "-5.0 ['this is a string']\n"
     ]
    }
   ],
   "source": [
    "# pop from root\n",
    "p2 = b_list.pop(0)\n",
    "print(p2, b_list)"
   ]
  },
  {
   "cell_type": "markdown",
   "metadata": {},
   "source": [
    "### Slicing\n",
    "**IMPORTANT!!!!** Read [this](http://stackoverflow.com/questions/509211/explain-pythons-slice-notation). And remind yourself of the how the arguments worked for the range() function above. I will assume that you've read the link here."
   ]
  },
  {
   "cell_type": "code",
   "execution_count": 35,
   "metadata": {
    "collapsed": true
   },
   "outputs": [],
   "source": [
    "# new toy lists:\n",
    "c_list = [3.0, 92, \"this is not the end\", \"amazon\", \"09\"]\n",
    "d_list = [\"12.0f\", -90]\n",
    "e_list = [c_list, d_list, (c_list, d_list)]"
   ]
  },
  {
   "cell_type": "code",
   "execution_count": 46,
   "metadata": {
    "collapsed": true
   },
   "outputs": [],
   "source": [
    "# Quick Question:\n",
    "# print( len(e_list) )"
   ]
  },
  {
   "cell_type": "code",
   "execution_count": 47,
   "metadata": {
    "collapsed": false
   },
   "outputs": [
    {
     "name": "stdout",
     "output_type": "stream",
     "text": [
      "09\n",
      "12.0f\n"
     ]
    }
   ],
   "source": [
    "# last element, c_list\n",
    "print(c_list[-1])\n",
    "\n",
    "# second last element, d_list\n",
    "print(d_list[-2])"
   ]
  },
  {
   "cell_type": "code",
   "execution_count": 48,
   "metadata": {
    "collapsed": false
   },
   "outputs": [
    {
     "name": "stdout",
     "output_type": "stream",
     "text": [
      "[3.0, 'this is not the end', '09']\n"
     ]
    }
   ],
   "source": [
    "# odd index elements, c_list\n",
    "print( c_list[::2])"
   ]
  },
  {
   "cell_type": "markdown",
   "metadata": {},
   "source": [
    "##### Might not be obvious why this is so important, but you will know soon enough."
   ]
  },
  {
   "cell_type": "code",
   "execution_count": 52,
   "metadata": {
    "collapsed": false
   },
   "outputs": [
    {
     "name": "stdout",
     "output_type": "stream",
     "text": [
      "<class 'list'> [3.0, 92, 'this is not the end', 'amazon', '09']\n",
      "\n",
      "<class 'list'> ['12.0f', -90]\n",
      "\n",
      "<class 'tuple'> ([3.0, 92, 'this is not the end', 'amazon', '09'], ['12.0f', -90])\n",
      "\n"
     ]
    }
   ],
   "source": [
    "# Now focus on e_list....\n",
    "for e in e_list:\n",
    "    print(type(e), e)\n",
    "    print() # new line"
   ]
  },
  {
   "cell_type": "code",
   "execution_count": 54,
   "metadata": {
    "collapsed": false
   },
   "outputs": [
    {
     "name": "stdout",
     "output_type": "stream",
     "text": [
      "<class 'float'> 3.0\n",
      "<class 'int'> 92\n",
      "<class 'str'> this is not the end\n",
      "<class 'str'> amazon\n",
      "<class 'str'> 09\n",
      "\n",
      "<class 'str'> 12.0f\n",
      "<class 'int'> -90\n",
      "\n",
      "<class 'list'> [3.0, 92, 'this is not the end', 'amazon', '09']\n",
      "<class 'list'> ['12.0f', -90]\n",
      "\n"
     ]
    }
   ],
   "source": [
    "for e in e_list:\n",
    "    for ee in e: # nested lists!!!\n",
    "        print(type(ee), ee)\n",
    "    print() # new line"
   ]
  },
  {
   "cell_type": "markdown",
   "metadata": {},
   "source": [
    "##### So:\n",
    "Lists are an intuitive way to store data in your computation. What's even cooler?"
   ]
  },
  {
   "cell_type": "markdown",
   "metadata": {},
   "source": [
    "# List Comprehension !!!!!"
   ]
  },
  {
   "cell_type": "markdown",
   "metadata": {},
   "source": [
    "want : [2, 4, 6, 8, 10, 12, 14, 16, 18, 20, 22, ... 100]\n",
    "how to define this??"
   ]
  },
  {
   "cell_type": "code",
   "execution_count": 69,
   "metadata": {
    "collapsed": false
   },
   "outputs": [
    {
     "name": "stdout",
     "output_type": "stream",
     "text": [
      "[2, 4, 6, 8, 10, 12, 14, 16, 18, 20, 22, 24, 26, 28, 30, 32, 34, 36, 38, 40, 42, 44, 46, 48, 50, 52, 54, 56, 58, 60, 62, 64, 66, 68, 70, 72, 74, 76, 78, 80, 82, 84, 86, 88, 90, 92, 94, 96, 98, 100]\n"
     ]
    }
   ],
   "source": [
    "res = list(range(2, 102, 2))\n",
    "print(res)"
   ]
  },
  {
   "cell_type": "markdown",
   "metadata": {},
   "source": [
    "want : [1, 2, 5, 10, 17, 26, 37, ..., 101]\n",
    "how to define this??"
   ]
  },
  {
   "cell_type": "code",
   "execution_count": 73,
   "metadata": {
    "collapsed": false
   },
   "outputs": [
    {
     "name": "stdout",
     "output_type": "stream",
     "text": [
      "[1, 2, 5, 10, 17, 26, 37, 50, 65, 82, 101]\n"
     ]
    }
   ],
   "source": [
    "res = [i**2 + 1 for i in range(11)] # pythonic list comprehension\n",
    "print(res)"
   ]
  },
  {
   "cell_type": "markdown",
   "metadata": {},
   "source": [
    "for each output of the inner for loop, we are essentially storing it into the larger list which embraces the entire expression\n",
    "```python\n",
    "i**2 + 1 for i in range(11)\n",
    "```"
   ]
  },
  {
   "cell_type": "code",
   "execution_count": 74,
   "metadata": {
    "collapsed": false
   },
   "outputs": [
    {
     "name": "stdout",
     "output_type": "stream",
     "text": [
      "[1, 2, 5, 10, 17, 26, 37, 50, 65, 82, 101]\n"
     ]
    }
   ],
   "source": [
    "# same as above\n",
    "res = list(i**2 + 1 for i in range(11)) # often seen in python 2\n",
    "print(res)"
   ]
  },
  {
   "cell_type": "code",
   "execution_count": 79,
   "metadata": {
    "collapsed": false
   },
   "outputs": [
    {
     "name": "stdout",
     "output_type": "stream",
     "text": [
      "[1, 2, 3, 4]\n",
      "[1, 2, 3, 4, 2, 10, 30, 68]\n"
     ]
    }
   ],
   "source": [
    "# random additional feature :)\n",
    "a = [1, 2, 3, 4]\n",
    "print(a)\n",
    "\n",
    "b = [c + c**3 for c in a]\n",
    "print( a + b)"
   ]
  },
  {
   "cell_type": "markdown",
   "metadata": {},
   "source": [
    "##### Question : How to form an array that computes the sum of each index of a and b and places it into a new array in one line?? "
   ]
  }
 ],
 "metadata": {
  "kernelspec": {
   "display_name": "Python 3",
   "language": "python",
   "name": "python3"
  },
  "language_info": {
   "codemirror_mode": {
    "name": "ipython",
    "version": 3
   },
   "file_extension": ".py",
   "mimetype": "text/x-python",
   "name": "python",
   "nbconvert_exporter": "python",
   "pygments_lexer": "ipython3",
   "version": "3.6.0"
  }
 },
 "nbformat": 4,
 "nbformat_minor": 2
}
