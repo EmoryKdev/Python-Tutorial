{
 "cells": [
  {
   "cell_type": "markdown",
   "metadata": {
    "deletable": true,
    "editable": true
   },
   "source": [
    "# Emory K. Dev Python Tutorial"
   ]
  },
  {
   "cell_type": "markdown",
   "metadata": {
    "deletable": true,
    "editable": true
   },
   "source": [
    "## Set-Up\n",
    "* [Anaconda](https://www.continuum.io/downloads) (Python 3.6.0)\n",
    "* [Git](https://git-scm.com/downloads)\n",
    "* [PyCharm](https://www.jetbrains.com/pycharm/) (Preferred Python IDE) ::: consider Spyder (part of Anaconda) for scientific computing"
   ]
  },
  {
   "cell_type": "markdown",
   "metadata": {
    "deletable": true,
    "editable": true
   },
   "source": [
    "## Ch 1 : Hello World"
   ]
  },
  {
   "cell_type": "code",
   "execution_count": 1,
   "metadata": {
    "collapsed": false,
    "deletable": true,
    "editable": true
   },
   "outputs": [
    {
     "name": "stdout",
     "output_type": "stream",
     "text": [
      "Hello World!\n"
     ]
    }
   ],
   "source": [
    "# Compare this to Java Hello World\n",
    "print(\"Hello World!\")"
   ]
  },
  {
   "cell_type": "code",
   "execution_count": 2,
   "metadata": {
    "collapsed": false,
    "deletable": true,
    "editable": true
   },
   "outputs": [
    {
     "data": {
      "text/plain": [
       "'\\nBlock Comment : This is another way to comment out multiple of lines!\\nSeems like the convention is to use this to provide descriptions for methods.\\nI will explain this a bit later, but for now just be aware of the shortcut:\\n(Windows) C + /\\n(Mac) cmd + / \\n-> Write a couple of random lines below this block comment, grab them and try the shortcut!\\n'"
      ]
     },
     "execution_count": 2,
     "metadata": {},
     "output_type": "execute_result"
    }
   ],
   "source": [
    "# Single-line Comment\n",
    "# Fundamentally, python is a scripting language suited for high-level programming with remarkable clarity and simplicity.\n",
    "\n",
    "'''\n",
    "Block Comment : This is another way to comment out multiple of lines!\n",
    "Seems like the convention is to use this to provide descriptions for methods.\n",
    "I will explain this a bit later, but for now just be aware of the shortcut:\n",
    "(Windows) C + /\n",
    "(Mac) cmd + / \n",
    "-> Write a couple of random lines below this block comment, grab them and try the shortcut!\n",
    "'''\n",
    "\n",
    "# this is an example!\n",
    "# I am writing random stuff here,\n",
    "# and ther... and now\n",
    "# I click cmd + / !!!"
   ]
  },
  {
   "cell_type": "markdown",
   "metadata": {
    "deletable": true,
    "editable": true
   },
   "source": [
    "## Ch 2 : Data Types + Basic Operation\n"
   ]
  },
  {
   "cell_type": "markdown",
   "metadata": {
    "deletable": true,
    "editable": true
   },
   "source": [
    "Look [here](https://en.wikibooks.org/wiki/Python_Programming/Data_Types) for details. I will not explain every one of these.\n",
    "\n",
    "Pay particular attention to [list](https://docs.python.org/3/tutorial/datastructures.html#more-on-lists), [tuple](https://docs.python.org/3/tutorial/datastructures.html#tuples-and-sequences) and [dict](https://docs.python.org/3/tutorial/datastructures.html#dictionaries). These will come in handy as you go forward.\n",
    "\n",
    "But, if I were to make a comparison with Java data types...\n",
    "* list : array / stack / queue / arraylist....\n",
    "* tuple : technically, does not exist in Java\n",
    "* dict : Hashmap\n",
    "\n",
    "Don't worry if you don't know what the Hashmap and queues and such are. Its behavior / format should be clear soon."
   ]
  },
  {
   "cell_type": "markdown",
   "metadata": {
    "deletable": true,
    "editable": true
   },
   "source": [
    "### A. List + Loop\n",
    "Recall that, up to CS170 and even CS171, you've learned For-Loop and While-Loop and specifically used it to look at elements within an array. Exactly the same here. How you iterate through the list, however, is slightly different. And if you've picked up [For-Each Loop](http://stackoverflow.com/questions/85190/how-does-the-java-for-each-loop-work), you are in good shape."
   ]
  },
  {
   "cell_type": "markdown",
   "metadata": {
    "deletable": true,
    "editable": true
   },
   "source": [
    "**While Loop**"
   ]
  },
  {
   "cell_type": "code",
   "execution_count": 3,
   "metadata": {
    "collapsed": true,
    "deletable": true,
    "editable": true
   },
   "outputs": [],
   "source": [
    "# While Loop example:\n",
    "i = a = 0      # i = 0, a = 0\n",
    "while i < 5:\n",
    "    a += i**2  # i ** 2 == i ^2\n",
    "    i += 1     # i +=1 : i = i + 1\n",
    "    \n",
    "# What is value in a now?"
   ]
  },
  {
   "cell_type": "code",
   "execution_count": 4,
   "metadata": {
    "collapsed": false,
    "deletable": true,
    "editable": true
   },
   "outputs": [
    {
     "data": {
      "text/plain": [
       "30"
      ]
     },
     "execution_count": 4,
     "metadata": {},
     "output_type": "execute_result"
    }
   ],
   "source": [
    "a"
   ]
  },
  {
   "cell_type": "markdown",
   "metadata": {
    "deletable": true,
    "editable": true
   },
   "source": [
    "Essentially, the while loop doesn't differ too much.\n",
    "Just note the lack of parenthesis around the loop condition, as it is considered redundant.\n",
    "However, this for loop is quite interesting so let's take a look."
   ]
  },
  {
   "cell_type": "markdown",
   "metadata": {
    "deletable": true,
    "editable": true
   },
   "source": [
    "**For Loop**"
   ]
  },
  {
   "cell_type": "code",
   "execution_count": 5,
   "metadata": {
    "collapsed": true,
    "deletable": true,
    "editable": true
   },
   "outputs": [],
   "source": [
    "# For Loop example:\n",
    "b = 0\n",
    "for i in range(5):\n",
    "    b += i**2\n",
    "    \n",
    "# What is value in a now?"
   ]
  },
  {
   "cell_type": "code",
   "execution_count": 6,
   "metadata": {
    "collapsed": false,
    "deletable": true,
    "editable": true,
    "scrolled": true
   },
   "outputs": [
    {
     "data": {
      "text/plain": [
       "30"
      ]
     },
     "execution_count": 6,
     "metadata": {},
     "output_type": "execute_result"
    }
   ],
   "source": [
    "b"
   ]
  },
  {
   "cell_type": "markdown",
   "metadata": {
    "deletable": true,
    "editable": true
   },
   "source": [
    "Essentially, a for loop in python is equivalent to a For-Each Loop in Java. What is For-Each Loop, you ask?\n",
    "\n",
    "In java, you learned in the very beginning that, in order to iterate an array of length 5:\n",
    "\n",
    "```java\n",
    "int[] a = {1, 2, 3, 4, 5},\n",
    "for(int i = 0; i < a.length; i++){\n",
    "    System.out.println(a[i]);\n",
    "}\n",
    "```\n",
    "\n",
    "But, this accomplishes exactly the same task:\n",
    "\n",
    "```java\n",
    "int[] b = a;\n",
    "for(int c : b){\n",
    "    System.out.println(c);\n",
    "}\n",
    "```\n",
    "\n",
    "Basically, the below version says:\n",
    "> Hey, I know that the array variable b only conatins elements of type int.\n",
    "> So, starting from index 0, just give me that element without me having to explicity specify the location of each element"
   ]
  },
  {
   "cell_type": "markdown",
   "metadata": {
    "deletable": true,
    "editable": true
   },
   "source": [
    "also check out [enumerate](https://docs.python.org/3/library/functions.html#enumerate)"
   ]
  },
  {
   "cell_type": "code",
   "execution_count": 7,
   "metadata": {
    "collapsed": false,
    "deletable": true,
    "editable": true
   },
   "outputs": [
    {
     "name": "stdout",
     "output_type": "stream",
     "text": [
      "0\n",
      "Single Quote String element\n",
      "Single Quote String element\n",
      "\n",
      "1\n",
      "Double Quote String\n",
      "Double Quote String\n",
      "\n",
      "2\n",
      "123\n",
      "123\n",
      "\n",
      "3\n",
      "-0.49\n",
      "-0.49\n",
      "\n"
     ]
    }
   ],
   "source": [
    "t = ['Single Quote String element', \"Double Quote String\", 123, -0.49]\n",
    "for i, value in enumerate(t):\n",
    "    print(i)\n",
    "    print(value)\n",
    "    print(t[i])\n",
    "    print()\n",
    "#     if i > 1:\n",
    "#         break"
   ]
  },
  {
   "cell_type": "markdown",
   "metadata": {
    "deletable": true,
    "editable": true
   },
   "source": [
    "#### You CAN change the value of the array elements in the first method. But you CANNOT change the value of the array elements in the second method!!!!\n",
    "## -> Why??"
   ]
  },
  {
   "cell_type": "markdown",
   "metadata": {
    "deletable": true,
    "editable": true
   },
   "source": [
    "#### [Range](https://docs.python.org/3/library/functions.html#func-range)"
   ]
  },
  {
   "cell_type": "code",
   "execution_count": 8,
   "metadata": {
    "collapsed": false,
    "deletable": true,
    "editable": true
   },
   "outputs": [
    {
     "name": "stdout",
     "output_type": "stream",
     "text": [
      "range(0, 5)\n"
     ]
    }
   ],
   "source": [
    "# Let's test this in python. First, let me show what range() function gives us.\n",
    "print(range(5))"
   ]
  },
  {
   "cell_type": "code",
   "execution_count": 9,
   "metadata": {
    "collapsed": false,
    "deletable": true,
    "editable": true
   },
   "outputs": [
    {
     "name": "stdout",
     "output_type": "stream",
     "text": [
      "0\n",
      "1\n",
      "2\n",
      "3\n",
      "4\n"
     ]
    }
   ],
   "source": [
    "# That wasn't too helpful. Let me try the for-loop instead:\n",
    "for i in range(5):\n",
    "    # only argument ::: stop (excluding)\n",
    "    print (i)"
   ]
  },
  {
   "cell_type": "code",
   "execution_count": 10,
   "metadata": {
    "collapsed": false,
    "deletable": true,
    "editable": true
   },
   "outputs": [
    {
     "name": "stdout",
     "output_type": "stream",
     "text": [
      "1\n",
      "2\n",
      "3\n",
      "4\n",
      "5\n"
     ]
    }
   ],
   "source": [
    "# Perhaps you can now visualize what the range(5) looks like? Let me try with a different set of arguments:\n",
    "for j in range(1, 6):\n",
    "    # first argument  ::: start (including)\n",
    "    # second argument ::: stop (excluding)\n",
    "    print(j)"
   ]
  },
  {
   "cell_type": "code",
   "execution_count": 11,
   "metadata": {
    "collapsed": false,
    "deletable": true,
    "editable": true
   },
   "outputs": [
    {
     "name": "stdout",
     "output_type": "stream",
     "text": [
      "1\n",
      "4\n",
      "7\n"
     ]
    }
   ],
   "source": [
    "for abc in range(1, 10, 3):\n",
    "    # first argument  ::: start (including)\n",
    "    # second argument ::: stop (excluding)\n",
    "    # third argument  ::: step\n",
    "    print(abc)"
   ]
  },
  {
   "cell_type": "markdown",
   "metadata": {
    "collapsed": true,
    "deletable": true,
    "editable": true
   },
   "source": [
    "To summmarize,\n",
    "```python\n",
    "range(5) ::: [0, 1, 2, 3, 4]\n",
    "range(1, 4) ::: [1, 2, 3]\n",
    "range(1, 10, 4) ::: [1, 5, 9]\n",
    "```\n",
    "Given this range, the for loop assigns a temporary variable that you give in the \n",
    "```python\n",
    "for my_var in range(5):\n",
    "```\n",
    "to stand for each value of the list.\n",
    "\n",
    "Oh and note that, unlike in Java, the convention for naming in python doesn't seem to be camelcase. Rather, use underscore."
   ]
  },
  {
   "cell_type": "markdown",
   "metadata": {
    "deletable": true,
    "editable": true
   },
   "source": [
    "** List**"
   ]
  },
  {
   "cell_type": "code",
   "execution_count": 12,
   "metadata": {
    "collapsed": true,
    "deletable": true,
    "editable": true
   },
   "outputs": [],
   "source": [
    "# Let's work directly with custom lists.\n",
    "a_list = [1, 2, 3] # equivalent to an int array in Java\n",
    "b_list = [-5.0, \"this is a string\", 9] # ?????? doesn't care about data type of constituent elements"
   ]
  },
  {
   "cell_type": "code",
   "execution_count": 13,
   "metadata": {
    "collapsed": false,
    "deletable": true,
    "editable": true
   },
   "outputs": [
    {
     "name": "stdout",
     "output_type": "stream",
     "text": [
      "3\n",
      "3\n"
     ]
    }
   ],
   "source": [
    "# how many elements?\n",
    "print( len(a_list) )\n",
    "print( len(b_list) )"
   ]
  },
  {
   "cell_type": "code",
   "execution_count": 14,
   "metadata": {
    "collapsed": false,
    "deletable": true,
    "editable": true
   },
   "outputs": [
    {
     "name": "stdout",
     "output_type": "stream",
     "text": [
      "[1, 2, 3, 4]\n"
     ]
    }
   ],
   "source": [
    "# append new data\n",
    "a_list.append(4)\n",
    "print(a_list)"
   ]
  },
  {
   "cell_type": "code",
   "execution_count": 15,
   "metadata": {
    "collapsed": false,
    "deletable": true,
    "editable": true
   },
   "outputs": [
    {
     "name": "stdout",
     "output_type": "stream",
     "text": [
      "[1, 3, 4]\n"
     ]
    }
   ],
   "source": [
    "# remove a second-index data\n",
    "del a_list[1]\n",
    "print(a_list)"
   ]
  },
  {
   "cell_type": "code",
   "execution_count": 16,
   "metadata": {
    "collapsed": false,
    "deletable": true,
    "editable": true
   },
   "outputs": [
    {
     "name": "stdout",
     "output_type": "stream",
     "text": [
      "9 [-5.0, 'this is a string']\n"
     ]
    }
   ],
   "source": [
    "# pop randomly\n",
    "p1 = b_list.pop()\n",
    "print(p1, b_list)"
   ]
  },
  {
   "cell_type": "code",
   "execution_count": 17,
   "metadata": {
    "collapsed": false,
    "deletable": true,
    "editable": true
   },
   "outputs": [
    {
     "name": "stdout",
     "output_type": "stream",
     "text": [
      "-5.0 ['this is a string']\n"
     ]
    }
   ],
   "source": [
    "# pop from root\n",
    "p2 = b_list.pop(0)\n",
    "print(p2, b_list)"
   ]
  },
  {
   "cell_type": "code",
   "execution_count": 18,
   "metadata": {
    "collapsed": false,
    "deletable": true,
    "editable": true
   },
   "outputs": [
    {
     "name": "stdout",
     "output_type": "stream",
     "text": [
      "[1, 3, 4]\n",
      "True\n",
      "False\n"
     ]
    }
   ],
   "source": [
    "# is an element in the list?\n",
    "print(a_list)\n",
    "print(3 in a_list)\n",
    "print(2 in a_list)"
   ]
  },
  {
   "cell_type": "code",
   "execution_count": 19,
   "metadata": {
    "collapsed": false,
    "deletable": true,
    "editable": true
   },
   "outputs": [
    {
     "name": "stdout",
     "output_type": "stream",
     "text": [
      "[1, 3, 4]\n",
      "1\n"
     ]
    },
    {
     "ename": "ValueError",
     "evalue": "2 is not in list",
     "output_type": "error",
     "traceback": [
      "\u001b[0;31m---------------------------------------------------------------------------\u001b[0m",
      "\u001b[0;31mValueError\u001b[0m                                Traceback (most recent call last)",
      "\u001b[0;32m<ipython-input-19-472d409a5564>\u001b[0m in \u001b[0;36m<module>\u001b[0;34m()\u001b[0m\n\u001b[1;32m      2\u001b[0m \u001b[0mprint\u001b[0m\u001b[0;34m(\u001b[0m\u001b[0ma_list\u001b[0m\u001b[0;34m)\u001b[0m\u001b[0;34m\u001b[0m\u001b[0m\n\u001b[1;32m      3\u001b[0m \u001b[0mprint\u001b[0m\u001b[0;34m(\u001b[0m\u001b[0ma_list\u001b[0m\u001b[0;34m.\u001b[0m\u001b[0mindex\u001b[0m\u001b[0;34m(\u001b[0m\u001b[0;36m3\u001b[0m\u001b[0;34m)\u001b[0m\u001b[0;34m)\u001b[0m\u001b[0;34m\u001b[0m\u001b[0m\n\u001b[0;32m----> 4\u001b[0;31m \u001b[0mprint\u001b[0m\u001b[0;34m(\u001b[0m\u001b[0ma_list\u001b[0m\u001b[0;34m.\u001b[0m\u001b[0mindex\u001b[0m\u001b[0;34m(\u001b[0m\u001b[0;36m2\u001b[0m \u001b[0;34m)\u001b[0m\u001b[0;34m)\u001b[0m \u001b[0;31m# error\u001b[0m\u001b[0;34m\u001b[0m\u001b[0m\n\u001b[0m",
      "\u001b[0;31mValueError\u001b[0m: 2 is not in list"
     ]
    }
   ],
   "source": [
    "# exactly where???\n",
    "print(a_list)\n",
    "print(a_list.index(3))\n",
    "print(a_list.index(2 )) # error"
   ]
  },
  {
   "cell_type": "markdown",
   "metadata": {
    "deletable": true,
    "editable": true
   },
   "source": [
    "### Slicing\n",
    "**IMPORTANT!!!!** Read [this](http://stackoverflow.com/questions/509211/explain-pythons-slice-notation). And remind yourself of the how the arguments worked for the range() function above. I will assume that you've read the link here."
   ]
  },
  {
   "cell_type": "code",
   "execution_count": 20,
   "metadata": {
    "collapsed": true,
    "deletable": true,
    "editable": true
   },
   "outputs": [],
   "source": [
    "# new toy lists:\n",
    "c_list = [3.0, 92, \"this is not the end\", \"amazon\", \"09\"]\n",
    "d_list = [\"12.0f\", -90]\n",
    "e_list = [c_list, d_list, (c_list, d_list)]"
   ]
  },
  {
   "cell_type": "code",
   "execution_count": 21,
   "metadata": {
    "collapsed": true,
    "deletable": true,
    "editable": true
   },
   "outputs": [],
   "source": [
    "# Quick Question:\n",
    "# print( len(e_list) )"
   ]
  },
  {
   "cell_type": "code",
   "execution_count": 22,
   "metadata": {
    "collapsed": false,
    "deletable": true,
    "editable": true
   },
   "outputs": [
    {
     "name": "stdout",
     "output_type": "stream",
     "text": [
      "09\n",
      "12.0f\n"
     ]
    }
   ],
   "source": [
    "# last element, c_list\n",
    "print(c_list[-1])\n",
    "\n",
    "# second last element, d_list\n",
    "print(d_list[-2])"
   ]
  },
  {
   "cell_type": "code",
   "execution_count": 23,
   "metadata": {
    "collapsed": false,
    "deletable": true,
    "editable": true
   },
   "outputs": [
    {
     "name": "stdout",
     "output_type": "stream",
     "text": [
      "[3.0, 'this is not the end', '09']\n"
     ]
    }
   ],
   "source": [
    "# odd index elements, c_list\n",
    "print( c_list[::2])"
   ]
  },
  {
   "cell_type": "markdown",
   "metadata": {
    "deletable": true,
    "editable": true
   },
   "source": [
    "##### Might not be obvious why this is so important, but you will know soon enough."
   ]
  },
  {
   "cell_type": "code",
   "execution_count": 24,
   "metadata": {
    "collapsed": false,
    "deletable": true,
    "editable": true
   },
   "outputs": [
    {
     "name": "stdout",
     "output_type": "stream",
     "text": [
      "<class 'list'> [3.0, 92, 'this is not the end', 'amazon', '09']\n",
      "\n",
      "<class 'list'> ['12.0f', -90]\n",
      "\n",
      "<class 'tuple'> ([3.0, 92, 'this is not the end', 'amazon', '09'], ['12.0f', -90])\n",
      "\n"
     ]
    }
   ],
   "source": [
    "# Now focus on e_list....\n",
    "for e in e_list:\n",
    "    print(type(e), e)\n",
    "    print() # new line"
   ]
  },
  {
   "cell_type": "code",
   "execution_count": 25,
   "metadata": {
    "collapsed": false,
    "deletable": true,
    "editable": true
   },
   "outputs": [
    {
     "name": "stdout",
     "output_type": "stream",
     "text": [
      "<class 'float'> 3.0\n",
      "<class 'int'> 92\n",
      "<class 'str'> this is not the end\n",
      "<class 'str'> amazon\n",
      "<class 'str'> 09\n",
      "\n",
      "<class 'str'> 12.0f\n",
      "<class 'int'> -90\n",
      "\n",
      "<class 'list'> [3.0, 92, 'this is not the end', 'amazon', '09']\n",
      "<class 'list'> ['12.0f', -90]\n",
      "\n"
     ]
    }
   ],
   "source": [
    "for e in e_list:\n",
    "    for ee in e: # nested lists!!!\n",
    "        print(type(ee), ee)\n",
    "    print() # new line"
   ]
  },
  {
   "cell_type": "markdown",
   "metadata": {
    "deletable": true,
    "editable": true
   },
   "source": [
    "##### So:\n",
    "Lists are an intuitive way to store data in your computation. What's even cooler?"
   ]
  },
  {
   "cell_type": "markdown",
   "metadata": {
    "deletable": true,
    "editable": true
   },
   "source": [
    "# List Comprehension !!!!!"
   ]
  },
  {
   "cell_type": "markdown",
   "metadata": {
    "deletable": true,
    "editable": true
   },
   "source": [
    "want : [2, 4, 6, 8, 10, 12, 14, 16, 18, 20, 22, ... 100]\n",
    "how to define this??"
   ]
  },
  {
   "cell_type": "code",
   "execution_count": 26,
   "metadata": {
    "collapsed": false,
    "deletable": true,
    "editable": true
   },
   "outputs": [
    {
     "name": "stdout",
     "output_type": "stream",
     "text": [
      "[2, 4, 6, 8, 10, 12, 14, 16, 18, 20, 22, 24, 26, 28, 30, 32, 34, 36, 38, 40, 42, 44, 46, 48, 50, 52, 54, 56, 58, 60, 62, 64, 66, 68, 70, 72, 74, 76, 78, 80, 82, 84, 86, 88, 90, 92, 94, 96, 98, 100]\n"
     ]
    }
   ],
   "source": [
    "res = list(range(2, 102, 2))\n",
    "print(res)"
   ]
  },
  {
   "cell_type": "markdown",
   "metadata": {
    "deletable": true,
    "editable": true
   },
   "source": [
    "want : [1, 2, 5, 10, 17, 26, 37, ..., 101]\n",
    "how to define this??"
   ]
  },
  {
   "cell_type": "code",
   "execution_count": 27,
   "metadata": {
    "collapsed": false,
    "deletable": true,
    "editable": true
   },
   "outputs": [
    {
     "name": "stdout",
     "output_type": "stream",
     "text": [
      "[1, 2, 5, 10, 17, 26, 37, 50, 65, 82, 101]\n"
     ]
    }
   ],
   "source": [
    "res = [i**2 + 1 for i in range(11)] # pythonic list comprehension\n",
    "print(res)"
   ]
  },
  {
   "cell_type": "markdown",
   "metadata": {
    "deletable": true,
    "editable": true
   },
   "source": [
    "for each output of the inner for loop, we are essentially storing it into the larger list which embraces the entire expression\n",
    "```python\n",
    "i**2 + 1 for i in range(11)\n",
    "```"
   ]
  },
  {
   "cell_type": "code",
   "execution_count": 28,
   "metadata": {
    "collapsed": false,
    "deletable": true,
    "editable": true
   },
   "outputs": [
    {
     "name": "stdout",
     "output_type": "stream",
     "text": [
      "[1, 2, 5, 10, 17, 26, 37, 50, 65, 82, 101]\n"
     ]
    }
   ],
   "source": [
    "# same as above\n",
    "res = list(i**2 + 1 for i in range(11)) # often seen in python 2\n",
    "print(res)"
   ]
  },
  {
   "cell_type": "code",
   "execution_count": 29,
   "metadata": {
    "collapsed": false,
    "deletable": true,
    "editable": true
   },
   "outputs": [
    {
     "name": "stdout",
     "output_type": "stream",
     "text": [
      "[5, 17, 37, 65, 101]\n"
     ]
    }
   ],
   "source": [
    "# List comprehension can also if conditions!\n",
    "res = [i**2 + 1 for i in range(1, 11) if (i)%2 == 0] # only even indices\n",
    "print(res)"
   ]
  },
  {
   "cell_type": "code",
   "execution_count": 30,
   "metadata": {
    "collapsed": false,
    "deletable": true,
    "editable": true
   },
   "outputs": [
    {
     "name": "stdout",
     "output_type": "stream",
     "text": [
      "[1, 2, 3, 4]\n",
      "[1, 2, 3, 4, 2, 10, 30, 68]\n"
     ]
    }
   ],
   "source": [
    "# random additional feature :)\n",
    "a = [1, 2, 3, 4]\n",
    "print(a)\n",
    "\n",
    "b = [c + c**3 for c in a]\n",
    "print( a + b)"
   ]
  },
  {
   "cell_type": "markdown",
   "metadata": {
    "deletable": true,
    "editable": true
   },
   "source": [
    "**Question** : How to form an array that computes the sum of each index of a and b and places it into a new array in one line?? "
   ]
  },
  {
   "cell_type": "markdown",
   "metadata": {
    "deletable": true,
    "editable": true
   },
   "source": [
    "** Some computations**"
   ]
  },
  {
   "cell_type": "code",
   "execution_count": 31,
   "metadata": {
    "collapsed": false,
    "deletable": true,
    "editable": true
   },
   "outputs": [
    {
     "name": "stdout",
     "output_type": "stream",
     "text": [
      "[1, 2, 3, 4]\n",
      "[2, 10, 30, 68]\n",
      "[1, 4, 9, 16]\n"
     ]
    }
   ],
   "source": [
    "# Toy lists\n",
    "a = [1, 2, 3, 4]\n",
    "b = [c + c**3 for c in a]\n",
    "c = [i **2 for i in a]\n",
    "print(a)\n",
    "print(b)\n",
    "print(c)"
   ]
  },
  {
   "cell_type": "code",
   "execution_count": 32,
   "metadata": {
    "collapsed": false,
    "deletable": true,
    "editable": true
   },
   "outputs": [
    {
     "name": "stdout",
     "output_type": "stream",
     "text": [
      "4 68\n",
      "1 2\n"
     ]
    }
   ],
   "source": [
    "# max, min\n",
    "print( max(a), max(b) )\n",
    "print( min(a), min(b) )"
   ]
  },
  {
   "cell_type": "code",
   "execution_count": 33,
   "metadata": {
    "collapsed": false,
    "deletable": true,
    "editable": true
   },
   "outputs": [
    {
     "name": "stdout",
     "output_type": "stream",
     "text": [
      "[2, 6, 12, 20]\n"
     ]
    }
   ],
   "source": [
    "# Element-wise addition\n",
    "print( [i + j for i, j in zip(a, c)] )"
   ]
  },
  {
   "cell_type": "markdown",
   "metadata": {
    "deletable": true,
    "editable": true
   },
   "source": [
    "##### In reality, math-intensive computations are done with external libraries. Check out [numpy](http://www.numpy.org/)"
   ]
  },
  {
   "cell_type": "code",
   "execution_count": 34,
   "metadata": {
    "collapsed": true,
    "deletable": true,
    "editable": true
   },
   "outputs": [],
   "source": [
    "import numpy as np"
   ]
  },
  {
   "cell_type": "code",
   "execution_count": 35,
   "metadata": {
    "collapsed": false,
    "deletable": true,
    "editable": true
   },
   "outputs": [
    {
     "name": "stdout",
     "output_type": "stream",
     "text": [
      "[1 2 3 4]\n",
      "[ 2 10 30 68]\n",
      "[ 1  4  9 16]\n"
     ]
    }
   ],
   "source": [
    "a = np.array(a)\n",
    "b = np.array(b)\n",
    "c = np.array(c)\n",
    "print(a)\n",
    "print(b)\n",
    "print(c)"
   ]
  },
  {
   "cell_type": "code",
   "execution_count": 36,
   "metadata": {
    "collapsed": false,
    "deletable": true,
    "editable": true
   },
   "outputs": [
    {
     "name": "stdout",
     "output_type": "stream",
     "text": [
      "27.5\n"
     ]
    }
   ],
   "source": [
    "# mean\n",
    "print (np.average(b) )"
   ]
  },
  {
   "cell_type": "code",
   "execution_count": 37,
   "metadata": {
    "collapsed": false,
    "deletable": true,
    "editable": true
   },
   "outputs": [
    {
     "name": "stdout",
     "output_type": "stream",
     "text": [
      "[ 3 12 33 72]\n",
      "[ -1  -6 -21 -52]\n"
     ]
    }
   ],
   "source": [
    "# Element-wise Sum / Substraction\n",
    "print(a + b)\n",
    "print(c - b)"
   ]
  },
  {
   "cell_type": "code",
   "execution_count": 38,
   "metadata": {
    "collapsed": false,
    "deletable": true,
    "editable": true
   },
   "outputs": [
    {
     "name": "stdout",
     "output_type": "stream",
     "text": [
      "[  1  16  81 256]\n",
      "[  1.   5.  15.  34.]\n"
     ]
    }
   ],
   "source": [
    "# Element-wise Multiplication / Division\n",
    "print(a**4)\n",
    "print(b / 2)"
   ]
  },
  {
   "cell_type": "markdown",
   "metadata": {
    "deletable": true,
    "editable": true
   },
   "source": [
    "##### numpy heavily used in any scientific programming environment, which includes machine learning."
   ]
  },
  {
   "cell_type": "markdown",
   "metadata": {
    "deletable": true,
    "editable": true
   },
   "source": [
    "[Tensorflow](https://www.tensorflow.org/) example\n",
    "\n",
    "```python\n",
    "# Snippet 3\n",
    "# Softmax and cross entropy.\n",
    "\n",
    "# Note that tf.nn.softmax REQUIRES the input to be of rank 2, and the logits\n",
    "# below has a batch_size of 1 for illustration purpose.\n",
    "logits = np.array([[0.95, 0.95]])\n",
    "# The probability representation of the labels has the same shape as logits.\n",
    "# Unlike logits, it is usually a batch of sparse vectors, where each vector\n",
    "# has 1 on the correct position and 0 on the others.\n",
    "labels = np.array([[1.0, 0.0]])\n",
    "# Sometimes we chose to represent each label as its label index (an integer)\n",
    "# instead of a probability. In our case the first (and the only) label has \n",
    "# 1.0 on index 0, so the sparse label representation will be \"0\".\n",
    "sparse_labels = np.array([0], dtype=np.int32)\n",
    "\n",
    "# Calculate the expected softmax and cross entropy.\n",
    "#\n",
    "# According to the definition of softmax, applying the softmax on it will \n",
    "# yield [[0.5, 0.5]]\n",
    "expected_softmax = np.array([[0.5, 0.5]])\n",
    "# Calcuate the cross entropy based on its definition. For details, see\n",
    "# https://en.wikipedia.org/wiki/Cross_entropy\n",
    "expected_cross_entropy = np.array([- 1.0 * np.log(0.5) - 0.0 * np.log(0.5)])\n",
    "\n",
    "# Operation that produces the cross entropy from logits and labels.\n",
    "cross_entropy_a = tf.nn.softmax_cross_entropy_with_logits(logits, labels)\n",
    "# Operation that produces the cross entropy from logits and labels.\n",
    "cross_entropy_b = tf.nn.sparse_softmax_cross_entropy_with_logits(logits, sparse_labels)\n",
    "\n",
    "with tf.Session() as sess:\n",
    "    # They should evaluate to the same vector (tensor).\n",
    "    print(expected_cross_entropy)\n",
    "    print(sess.run(cross_entropy_a))\n",
    "    print(sess.run(cross_entropy_b))\n",
    "```\n",
    "[reference](https://github.com/breakds/tensorflow-snippets/blob/master/snippets/softmax_and_cross_entropy.ipynb)"
   ]
  },
  {
   "cell_type": "markdown",
   "metadata": {
    "deletable": true,
    "editable": true
   },
   "source": [
    "**Dictionary**"
   ]
  },
  {
   "cell_type": "markdown",
   "metadata": {
    "deletable": true,
    "editable": true
   },
   "source": [
    "If a list is an ordered sequence of values indexed by integer starting from 0, 1, 2, 3..\n",
    "**Dictionary** provides an additional way to pair the value with other data types. This is pretty vague, so let's see..."
   ]
  },
  {
   "cell_type": "code",
   "execution_count": 39,
   "metadata": {
    "collapsed": true,
    "deletable": true,
    "editable": true
   },
   "outputs": [],
   "source": [
    "from random import randint"
   ]
  },
  {
   "cell_type": "code",
   "execution_count": 40,
   "metadata": {
    "collapsed": false,
    "deletable": true,
    "editable": true
   },
   "outputs": [
    {
     "name": "stdout",
     "output_type": "stream",
     "text": [
      "[1, 4, 9, 6, 2]\n"
     ]
    }
   ],
   "source": [
    "# list of random integers from 0 to 9\n",
    "rand = [randint(0, 9) for _ in range(5)]\n",
    "print(rand)"
   ]
  },
  {
   "cell_type": "markdown",
   "metadata": {
    "deletable": true,
    "editable": true
   },
   "source": [
    "If all you need is a container to store them in the way that they appear, lists are just fine.\n",
    "\n",
    "**However**, let's imagine that we are playing a poker game. Player A must receive two cards of random digits from 1(ace) through 13(king), and same for Player B, C, D, etc...\n",
    "\n",
    "You could assign an integer 0 to A, 1 to B, 2 to C, etc and come up with this:"
   ]
  },
  {
   "cell_type": "code",
   "execution_count": 41,
   "metadata": {
    "collapsed": false,
    "deletable": true,
    "editable": true
   },
   "outputs": [
    {
     "name": "stdout",
     "output_type": "stream",
     "text": [
      "Player D has the cards (2, 10).\n",
      "Player D has the cards (8, 2).\n",
      "Player D has the cards (5, 3).\n",
      "Player D has the cards (5, 5).\n"
     ]
    }
   ],
   "source": [
    "# using list\n",
    "num_player = 4\n",
    "poker_init = [(randint(1, 13),randint(1, 13)) for _ in range(num_player) ]\n",
    "for hand in poker_init:\n",
    "    if i == 0:\n",
    "        player = \"A\"\n",
    "    elif i == 1:\n",
    "        player = \"B\"\n",
    "    elif i == 2:\n",
    "        player = \"C\"\n",
    "    else:\n",
    "        player = \"D\"\n",
    "    print(\"Player {} has the cards {}.\".format(player, hand))"
   ]
  },
  {
   "cell_type": "markdown",
   "metadata": {
    "deletable": true,
    "editable": true
   },
   "source": [
    "If **You** remember that index of 0 refers to player A's hands, but it's only you who knows this. When programming, must think about how to present our data in a understandable format to the users. \n",
    "\n",
    "-> UI/UX (User Interface / User Experience)"
   ]
  },
  {
   "cell_type": "code",
   "execution_count": 42,
   "metadata": {
    "collapsed": false,
    "deletable": true,
    "editable": true
   },
   "outputs": [
    {
     "name": "stdout",
     "output_type": "stream",
     "text": [
      "{'A': (13, 5), 'B': (10, 11), 'C': (8, 10), 'D': (8, 6)}\n"
     ]
    }
   ],
   "source": [
    "# using dict\n",
    "num_player = 4\n",
    "\n",
    "# these two lines might be confusing, but don't worry at this point.\n",
    "# just look at what has been stored in the poker variable!\n",
    "begin_char = ord(\"A\")\n",
    "poker = {chr(begin_char + i): (randint(1, 13), randint(1, 13)) for i in range(num_player)}\n",
    "print (poker)"
   ]
  },
  {
   "cell_type": "code",
   "execution_count": 43,
   "metadata": {
    "collapsed": false,
    "deletable": true,
    "editable": true
   },
   "outputs": [
    {
     "name": "stdout",
     "output_type": "stream",
     "text": [
      "(13, 5)\n"
     ]
    }
   ],
   "source": [
    "# Want to know what A has at this point?\n",
    "print(poker['A'])"
   ]
  },
  {
   "cell_type": "markdown",
   "metadata": {
    "deletable": true,
    "editable": true
   },
   "source": [
    "So...\n",
    "* List -> key: integer ::: value: any\n",
    "* Dict -> key: any ::: value: any"
   ]
  },
  {
   "cell_type": "markdown",
   "metadata": {
    "deletable": true,
    "editable": true
   },
   "source": [
    "#### Iteration"
   ]
  },
  {
   "cell_type": "code",
   "execution_count": 44,
   "metadata": {
    "collapsed": false,
    "deletable": true,
    "editable": true
   },
   "outputs": [
    {
     "name": "stdout",
     "output_type": "stream",
     "text": [
      "A\n",
      "B\n",
      "C\n",
      "D\n"
     ]
    }
   ],
   "source": [
    "# (1) key only\n",
    "for i in poker:\n",
    "    print(i)"
   ]
  },
  {
   "cell_type": "code",
   "execution_count": 45,
   "metadata": {
    "collapsed": false,
    "deletable": true,
    "editable": true
   },
   "outputs": [
    {
     "name": "stdout",
     "output_type": "stream",
     "text": [
      "(13, 5)\n",
      "(10, 11)\n",
      "(8, 10)\n",
      "(8, 6)\n"
     ]
    }
   ],
   "source": [
    "# (2) value only\n",
    "for v in poker.values():\n",
    "    print(v)"
   ]
  },
  {
   "cell_type": "code",
   "execution_count": 46,
   "metadata": {
    "collapsed": false,
    "deletable": true,
    "editable": true
   },
   "outputs": [
    {
     "name": "stdout",
     "output_type": "stream",
     "text": [
      "A\n",
      "(13, 5)\n",
      "\n",
      "B\n",
      "(10, 11)\n",
      "\n",
      "C\n",
      "(8, 10)\n",
      "\n",
      "D\n",
      "(8, 6)\n",
      "\n"
     ]
    }
   ],
   "source": [
    "# (3) key and value\n",
    "for k, v in poker.items():\n",
    "    print(k)\n",
    "    print(v)\n",
    "    print()"
   ]
  },
  {
   "cell_type": "markdown",
   "metadata": {
    "deletable": true,
    "editable": true
   },
   "source": [
    "**Efficiency: O(1) get and put. **\n",
    "However, keys and values are stored unordered!"
   ]
  },
  {
   "cell_type": "markdown",
   "metadata": {
    "deletable": true,
    "editable": true
   },
   "source": [
    "> When to use what depends on what you want to do."
   ]
  },
  {
   "cell_type": "markdown",
   "metadata": {
    "deletable": true,
    "editable": true
   },
   "source": [
    "**Tuple**"
   ]
  },
  {
   "cell_type": "code",
   "execution_count": 47,
   "metadata": {
    "collapsed": false,
    "deletable": true,
    "editable": true
   },
   "outputs": [
    {
     "name": "stdout",
     "output_type": "stream",
     "text": [
      "(4, 5)\n"
     ]
    }
   ],
   "source": [
    "# immutable, ordered\n",
    "a_tup = (4, 5)\n",
    "print(a_tup)"
   ]
  },
  {
   "cell_type": "code",
   "execution_count": 48,
   "metadata": {
    "collapsed": false,
    "deletable": true,
    "editable": true
   },
   "outputs": [
    {
     "name": "stdout",
     "output_type": "stream",
     "text": [
      "4\n",
      "5\n"
     ]
    }
   ],
   "source": [
    "# can iterate through it\n",
    "for i in a_tup:\n",
    "    print(i)"
   ]
  },
  {
   "cell_type": "code",
   "execution_count": 49,
   "metadata": {
    "collapsed": false,
    "deletable": true,
    "editable": true
   },
   "outputs": [],
   "source": [
    "# Usually used when a function returns more than one value.\n",
    "# Functions will be covered a bit later."
   ]
  },
  {
   "cell_type": "code",
   "execution_count": 50,
   "metadata": {
    "collapsed": false,
    "deletable": true,
    "editable": true
   },
   "outputs": [
    {
     "name": "stdout",
     "output_type": "stream",
     "text": [
      "{'A': (13, 5), 'B': (10, 11), 'C': (8, 10), 'D': (8, 6)}\n",
      "{'A': (13, 5), 'B': (10, 11), 'C': (8, 10), ('D', 'E'): (8, 6)}\n"
     ]
    }
   ],
   "source": [
    "# Just note, tuples can be used as keys to dicts\n",
    "# let's say, Player E joins in the middle of the game to help player D out.\n",
    "print(poker)\n",
    "poker[('D', 'E')] = poker['D']\n",
    "del poker['D']\n",
    "print(poker)"
   ]
  },
  {
   "cell_type": "code",
   "execution_count": 51,
   "metadata": {
    "collapsed": false,
    "deletable": true,
    "editable": true
   },
   "outputs": [
    {
     "data": {
      "text/plain": [
       "(8, 6)"
      ]
     },
     "execution_count": 51,
     "metadata": {},
     "output_type": "execute_result"
    }
   ],
   "source": [
    "poker[('D', \"E\")]"
   ]
  }
 ],
 "metadata": {
  "kernelspec": {
   "display_name": "Python 3",
   "language": "python",
   "name": "python3"
  },
  "language_info": {
   "codemirror_mode": {
    "name": "ipython",
    "version": 3
   },
   "file_extension": ".py",
   "mimetype": "text/x-python",
   "name": "python",
   "nbconvert_exporter": "python",
   "pygments_lexer": "ipython3",
   "version": "3.6.0"
  }
 },
 "nbformat": 4,
 "nbformat_minor": 2
}
